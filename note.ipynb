{
 "cells": [
  {
   "attachments": {},
   "cell_type": "markdown",
   "metadata": {},
   "source": [
    "LOADING LIBRARIES"
   ]
  },
  {
   "cell_type": "code",
   "execution_count": 1,
   "metadata": {},
   "outputs": [],
   "source": [
    "%matplotlib inline\n",
    "from sklearn.metrics import classification_report \n",
    "from sklearn.metrics import confusion_matrix \n",
    "import pandas\n",
    "import numpy\n",
    "import warnings\n",
    "import itertools\n",
    "import matplotlib.pyplot as plt\n",
    "import seaborn\n",
    "from sklearn.tree import DecisionTreeClassifier\n",
    "from sklearn.ensemble import RandomForestClassifier\n",
    "from sklearn.svm import SVC\n",
    "from sklearn.metrics import classification_report \n",
    "from sklearn.metrics import confusion_matrix \n",
    "from sklearn.linear_model import LogisticRegression \n",
    "from sklearn.naive_bayes import MultinomialNB \n",
    "from sklearn.preprocessing import StandardScaler\n",
    "from sklearn.preprocessing import LabelEncoder\n",
    "from sklearn.ensemble import RandomForestClassifier\n",
    "from sklearn.feature_selection import RFE\n",
    "from sklearn.model_selection import train_test_split\n",
    "from sklearn.neighbors import KNeighborsClassifier\n",
    "from sklearn.model_selection import cross_val_score\n",
    "from sklearn import metrics as metrics\n",
    "from sklearn.metrics import accuracy_score\n",
    "from sklearn import metrics\n",
    "from sklearn.base import BaseEstimator, ClassifierMixin\n",
    "from sklearn.utils.validation import check_X_y, check_array, check_is_fitted\n",
    "warnings.filterwarnings(\"ignore\")"
   ]
  },
  {
   "attachments": {},
   "cell_type": "markdown",
   "metadata": {},
   "source": [
    "LOADING THE DATA"
   ]
  },
  {
   "cell_type": "code",
   "execution_count": 2,
   "metadata": {},
   "outputs": [],
   "source": [
    "train = pandas.read_csv(\"Train_data.csv\")\n",
    "test = pandas.read_csv(\"Test_data.csv\")"
   ]
  },
  {
   "cell_type": "code",
   "execution_count": 3,
   "metadata": {},
   "outputs": [
    {
     "data": {
      "text/html": [
       "<div>\n",
       "<style scoped>\n",
       "    .dataframe tbody tr th:only-of-type {\n",
       "        vertical-align: middle;\n",
       "    }\n",
       "\n",
       "    .dataframe tbody tr th {\n",
       "        vertical-align: top;\n",
       "    }\n",
       "\n",
       "    .dataframe thead th {\n",
       "        text-align: right;\n",
       "    }\n",
       "</style>\n",
       "<table border=\"1\" class=\"dataframe\">\n",
       "  <thead>\n",
       "    <tr style=\"text-align: right;\">\n",
       "      <th></th>\n",
       "      <th>duration</th>\n",
       "      <th>protocol_type</th>\n",
       "      <th>service</th>\n",
       "      <th>flag</th>\n",
       "      <th>src_bytes</th>\n",
       "      <th>dst_bytes</th>\n",
       "      <th>land</th>\n",
       "      <th>wrong_fragment</th>\n",
       "      <th>urgent</th>\n",
       "      <th>hot</th>\n",
       "      <th>...</th>\n",
       "      <th>dst_host_srv_count</th>\n",
       "      <th>dst_host_same_srv_rate</th>\n",
       "      <th>dst_host_diff_srv_rate</th>\n",
       "      <th>dst_host_same_src_port_rate</th>\n",
       "      <th>dst_host_srv_diff_host_rate</th>\n",
       "      <th>dst_host_serror_rate</th>\n",
       "      <th>dst_host_srv_serror_rate</th>\n",
       "      <th>dst_host_rerror_rate</th>\n",
       "      <th>dst_host_srv_rerror_rate</th>\n",
       "      <th>class</th>\n",
       "    </tr>\n",
       "  </thead>\n",
       "  <tbody>\n",
       "    <tr>\n",
       "      <th>0</th>\n",
       "      <td>0</td>\n",
       "      <td>tcp</td>\n",
       "      <td>ftp_data</td>\n",
       "      <td>SF</td>\n",
       "      <td>491</td>\n",
       "      <td>0</td>\n",
       "      <td>0</td>\n",
       "      <td>0</td>\n",
       "      <td>0</td>\n",
       "      <td>0</td>\n",
       "      <td>...</td>\n",
       "      <td>25</td>\n",
       "      <td>0.17</td>\n",
       "      <td>0.03</td>\n",
       "      <td>0.17</td>\n",
       "      <td>0.00</td>\n",
       "      <td>0.00</td>\n",
       "      <td>0.00</td>\n",
       "      <td>0.05</td>\n",
       "      <td>0.00</td>\n",
       "      <td>normal</td>\n",
       "    </tr>\n",
       "    <tr>\n",
       "      <th>1</th>\n",
       "      <td>0</td>\n",
       "      <td>udp</td>\n",
       "      <td>other</td>\n",
       "      <td>SF</td>\n",
       "      <td>146</td>\n",
       "      <td>0</td>\n",
       "      <td>0</td>\n",
       "      <td>0</td>\n",
       "      <td>0</td>\n",
       "      <td>0</td>\n",
       "      <td>...</td>\n",
       "      <td>1</td>\n",
       "      <td>0.00</td>\n",
       "      <td>0.60</td>\n",
       "      <td>0.88</td>\n",
       "      <td>0.00</td>\n",
       "      <td>0.00</td>\n",
       "      <td>0.00</td>\n",
       "      <td>0.00</td>\n",
       "      <td>0.00</td>\n",
       "      <td>normal</td>\n",
       "    </tr>\n",
       "    <tr>\n",
       "      <th>2</th>\n",
       "      <td>0</td>\n",
       "      <td>tcp</td>\n",
       "      <td>private</td>\n",
       "      <td>S0</td>\n",
       "      <td>0</td>\n",
       "      <td>0</td>\n",
       "      <td>0</td>\n",
       "      <td>0</td>\n",
       "      <td>0</td>\n",
       "      <td>0</td>\n",
       "      <td>...</td>\n",
       "      <td>26</td>\n",
       "      <td>0.10</td>\n",
       "      <td>0.05</td>\n",
       "      <td>0.00</td>\n",
       "      <td>0.00</td>\n",
       "      <td>1.00</td>\n",
       "      <td>1.00</td>\n",
       "      <td>0.00</td>\n",
       "      <td>0.00</td>\n",
       "      <td>anomaly</td>\n",
       "    </tr>\n",
       "    <tr>\n",
       "      <th>3</th>\n",
       "      <td>0</td>\n",
       "      <td>tcp</td>\n",
       "      <td>http</td>\n",
       "      <td>SF</td>\n",
       "      <td>232</td>\n",
       "      <td>8153</td>\n",
       "      <td>0</td>\n",
       "      <td>0</td>\n",
       "      <td>0</td>\n",
       "      <td>0</td>\n",
       "      <td>...</td>\n",
       "      <td>255</td>\n",
       "      <td>1.00</td>\n",
       "      <td>0.00</td>\n",
       "      <td>0.03</td>\n",
       "      <td>0.04</td>\n",
       "      <td>0.03</td>\n",
       "      <td>0.01</td>\n",
       "      <td>0.00</td>\n",
       "      <td>0.01</td>\n",
       "      <td>normal</td>\n",
       "    </tr>\n",
       "    <tr>\n",
       "      <th>4</th>\n",
       "      <td>0</td>\n",
       "      <td>tcp</td>\n",
       "      <td>http</td>\n",
       "      <td>SF</td>\n",
       "      <td>199</td>\n",
       "      <td>420</td>\n",
       "      <td>0</td>\n",
       "      <td>0</td>\n",
       "      <td>0</td>\n",
       "      <td>0</td>\n",
       "      <td>...</td>\n",
       "      <td>255</td>\n",
       "      <td>1.00</td>\n",
       "      <td>0.00</td>\n",
       "      <td>0.00</td>\n",
       "      <td>0.00</td>\n",
       "      <td>0.00</td>\n",
       "      <td>0.00</td>\n",
       "      <td>0.00</td>\n",
       "      <td>0.00</td>\n",
       "      <td>normal</td>\n",
       "    </tr>\n",
       "  </tbody>\n",
       "</table>\n",
       "<p>5 rows × 42 columns</p>\n",
       "</div>"
      ],
      "text/plain": [
       "   duration protocol_type   service flag  src_bytes  dst_bytes  land  \\\n",
       "0         0           tcp  ftp_data   SF        491          0     0   \n",
       "1         0           udp     other   SF        146          0     0   \n",
       "2         0           tcp   private   S0          0          0     0   \n",
       "3         0           tcp      http   SF        232       8153     0   \n",
       "4         0           tcp      http   SF        199        420     0   \n",
       "\n",
       "   wrong_fragment  urgent  hot  ...  dst_host_srv_count  \\\n",
       "0               0       0    0  ...                  25   \n",
       "1               0       0    0  ...                   1   \n",
       "2               0       0    0  ...                  26   \n",
       "3               0       0    0  ...                 255   \n",
       "4               0       0    0  ...                 255   \n",
       "\n",
       "   dst_host_same_srv_rate  dst_host_diff_srv_rate  \\\n",
       "0                    0.17                    0.03   \n",
       "1                    0.00                    0.60   \n",
       "2                    0.10                    0.05   \n",
       "3                    1.00                    0.00   \n",
       "4                    1.00                    0.00   \n",
       "\n",
       "   dst_host_same_src_port_rate  dst_host_srv_diff_host_rate  \\\n",
       "0                         0.17                         0.00   \n",
       "1                         0.88                         0.00   \n",
       "2                         0.00                         0.00   \n",
       "3                         0.03                         0.04   \n",
       "4                         0.00                         0.00   \n",
       "\n",
       "   dst_host_serror_rate  dst_host_srv_serror_rate  dst_host_rerror_rate  \\\n",
       "0                  0.00                      0.00                  0.05   \n",
       "1                  0.00                      0.00                  0.00   \n",
       "2                  1.00                      1.00                  0.00   \n",
       "3                  0.03                      0.01                  0.00   \n",
       "4                  0.00                      0.00                  0.00   \n",
       "\n",
       "   dst_host_srv_rerror_rate    class  \n",
       "0                      0.00   normal  \n",
       "1                      0.00   normal  \n",
       "2                      0.00  anomaly  \n",
       "3                      0.01   normal  \n",
       "4                      0.00   normal  \n",
       "\n",
       "[5 rows x 42 columns]"
      ]
     },
     "execution_count": 3,
     "metadata": {},
     "output_type": "execute_result"
    }
   ],
   "source": [
    "train.head()"
   ]
  },
  {
   "cell_type": "code",
   "execution_count": 3,
   "metadata": {},
   "outputs": [],
   "source": [
    "sample_size = int(len(train) * 0.1)  # Sample 20% of the dataset\n",
    "# Randomly sample the dataset\n",
    "train = train.sample(n=sample_size)"
   ]
  },
  {
   "cell_type": "code",
   "execution_count": 4,
   "metadata": {},
   "outputs": [],
   "source": [
    "import pandas as pd\n",
    "import numpy as np\n",
    "def clean_dataset(df):\n",
    "    assert isinstance(df, pd.DataFrame), \"df needs to be a pd.DataFrame\"\n",
    "    df.dropna(inplace=True)\n",
    "    indices_to_keep = ~df.isin([np.nan, np.inf, -np.inf]).any(axis=1)\n",
    "    return df[indices_to_keep].astype(np.float64)"
   ]
  },
  {
   "cell_type": "code",
   "execution_count": 5,
   "metadata": {},
   "outputs": [
    {
     "name": "stdout",
     "output_type": "stream",
     "text": [
      "       duration protocol_type  service flag  src_bytes  dst_bytes  land  \\\n",
      "15394         0           tcp  private   S0          0          0     0   \n",
      "7904          0           tcp  private   S0          0          0     0   \n",
      "10589         0           tcp     http   SF        215        693     0   \n",
      "13097         0           tcp  private   S0          0          0     0   \n",
      "5269          0           tcp  courier   S0          0          0     0   \n",
      "\n",
      "       wrong_fragment  urgent  hot  ...  dst_host_srv_count  \\\n",
      "15394               0       0    0  ...                   9   \n",
      "7904                0       0    0  ...                  13   \n",
      "10589               0       0    0  ...                 255   \n",
      "13097               0       0    0  ...                  12   \n",
      "5269                0       0    0  ...                   1   \n",
      "\n",
      "       dst_host_same_srv_rate  dst_host_diff_srv_rate  \\\n",
      "15394                    0.04                    0.07   \n",
      "7904                     0.05                    0.06   \n",
      "10589                    1.00                    0.00   \n",
      "13097                    0.05                    0.06   \n",
      "5269                     0.00                    0.05   \n",
      "\n",
      "       dst_host_same_src_port_rate  dst_host_srv_diff_host_rate  \\\n",
      "15394                         0.00                         0.00   \n",
      "7904                          0.00                         0.00   \n",
      "10589                         0.02                         0.03   \n",
      "13097                         0.00                         0.00   \n",
      "5269                          0.00                         0.00   \n",
      "\n",
      "       dst_host_serror_rate  dst_host_srv_serror_rate  dst_host_rerror_rate  \\\n",
      "15394                   1.0                       1.0                   0.0   \n",
      "7904                    1.0                       1.0                   0.0   \n",
      "10589                   0.0                       0.0                   0.1   \n",
      "13097                   1.0                       1.0                   0.0   \n",
      "5269                    1.0                       1.0                   0.0   \n",
      "\n",
      "       dst_host_srv_rerror_rate    class  \n",
      "15394                      0.00  anomaly  \n",
      "7904                       0.00  anomaly  \n",
      "10589                      0.03   normal  \n",
      "13097                      0.00  anomaly  \n",
      "5269                       0.00  anomaly  \n",
      "\n",
      "[5 rows x 42 columns]\n"
     ]
    }
   ],
   "source": [
    "print(train.head())"
   ]
  },
  {
   "cell_type": "code",
   "execution_count": 7,
   "metadata": {},
   "outputs": [
    {
     "data": {
      "text/html": [
       "<div>\n",
       "<style scoped>\n",
       "    .dataframe tbody tr th:only-of-type {\n",
       "        vertical-align: middle;\n",
       "    }\n",
       "\n",
       "    .dataframe tbody tr th {\n",
       "        vertical-align: top;\n",
       "    }\n",
       "\n",
       "    .dataframe thead th {\n",
       "        text-align: right;\n",
       "    }\n",
       "</style>\n",
       "<table border=\"1\" class=\"dataframe\">\n",
       "  <thead>\n",
       "    <tr style=\"text-align: right;\">\n",
       "      <th></th>\n",
       "      <th>duration</th>\n",
       "      <th>src_bytes</th>\n",
       "      <th>dst_bytes</th>\n",
       "      <th>land</th>\n",
       "      <th>wrong_fragment</th>\n",
       "      <th>urgent</th>\n",
       "      <th>hot</th>\n",
       "      <th>num_failed_logins</th>\n",
       "      <th>logged_in</th>\n",
       "      <th>num_compromised</th>\n",
       "      <th>...</th>\n",
       "      <th>dst_host_count</th>\n",
       "      <th>dst_host_srv_count</th>\n",
       "      <th>dst_host_same_srv_rate</th>\n",
       "      <th>dst_host_diff_srv_rate</th>\n",
       "      <th>dst_host_same_src_port_rate</th>\n",
       "      <th>dst_host_srv_diff_host_rate</th>\n",
       "      <th>dst_host_serror_rate</th>\n",
       "      <th>dst_host_srv_serror_rate</th>\n",
       "      <th>dst_host_rerror_rate</th>\n",
       "      <th>dst_host_srv_rerror_rate</th>\n",
       "    </tr>\n",
       "  </thead>\n",
       "  <tbody>\n",
       "    <tr>\n",
       "      <th>count</th>\n",
       "      <td>2519.000000</td>\n",
       "      <td>2.519000e+03</td>\n",
       "      <td>2.519000e+03</td>\n",
       "      <td>2519.0</td>\n",
       "      <td>2519.000000</td>\n",
       "      <td>2519.0</td>\n",
       "      <td>2519.000000</td>\n",
       "      <td>2519.000000</td>\n",
       "      <td>2519.000000</td>\n",
       "      <td>2519.000000</td>\n",
       "      <td>...</td>\n",
       "      <td>2519.000000</td>\n",
       "      <td>2519.000000</td>\n",
       "      <td>2519.000000</td>\n",
       "      <td>2519.000000</td>\n",
       "      <td>2519.000000</td>\n",
       "      <td>2519.000000</td>\n",
       "      <td>2519.000000</td>\n",
       "      <td>2519.000000</td>\n",
       "      <td>2519.000000</td>\n",
       "      <td>2519.000000</td>\n",
       "    </tr>\n",
       "    <tr>\n",
       "      <th>mean</th>\n",
       "      <td>321.768956</td>\n",
       "      <td>1.263095e+04</td>\n",
       "      <td>4.337233e+03</td>\n",
       "      <td>0.0</td>\n",
       "      <td>0.021834</td>\n",
       "      <td>0.0</td>\n",
       "      <td>0.218738</td>\n",
       "      <td>0.001191</td>\n",
       "      <td>0.398174</td>\n",
       "      <td>0.064311</td>\n",
       "      <td>...</td>\n",
       "      <td>181.921000</td>\n",
       "      <td>113.283446</td>\n",
       "      <td>0.511874</td>\n",
       "      <td>0.083077</td>\n",
       "      <td>0.144569</td>\n",
       "      <td>0.030985</td>\n",
       "      <td>0.291108</td>\n",
       "      <td>0.285431</td>\n",
       "      <td>0.117487</td>\n",
       "      <td>0.115697</td>\n",
       "    </tr>\n",
       "    <tr>\n",
       "      <th>std</th>\n",
       "      <td>3002.574905</td>\n",
       "      <td>1.910415e+05</td>\n",
       "      <td>1.044361e+05</td>\n",
       "      <td>0.0</td>\n",
       "      <td>0.243908</td>\n",
       "      <td>0.0</td>\n",
       "      <td>2.329020</td>\n",
       "      <td>0.044545</td>\n",
       "      <td>0.489619</td>\n",
       "      <td>2.234965</td>\n",
       "      <td>...</td>\n",
       "      <td>98.947602</td>\n",
       "      <td>110.336621</td>\n",
       "      <td>0.448497</td>\n",
       "      <td>0.185537</td>\n",
       "      <td>0.302175</td>\n",
       "      <td>0.106414</td>\n",
       "      <td>0.447727</td>\n",
       "      <td>0.448924</td>\n",
       "      <td>0.303594</td>\n",
       "      <td>0.312336</td>\n",
       "    </tr>\n",
       "    <tr>\n",
       "      <th>min</th>\n",
       "      <td>0.000000</td>\n",
       "      <td>0.000000e+00</td>\n",
       "      <td>0.000000e+00</td>\n",
       "      <td>0.0</td>\n",
       "      <td>0.000000</td>\n",
       "      <td>0.0</td>\n",
       "      <td>0.000000</td>\n",
       "      <td>0.000000</td>\n",
       "      <td>0.000000</td>\n",
       "      <td>0.000000</td>\n",
       "      <td>...</td>\n",
       "      <td>1.000000</td>\n",
       "      <td>1.000000</td>\n",
       "      <td>0.000000</td>\n",
       "      <td>0.000000</td>\n",
       "      <td>0.000000</td>\n",
       "      <td>0.000000</td>\n",
       "      <td>0.000000</td>\n",
       "      <td>0.000000</td>\n",
       "      <td>0.000000</td>\n",
       "      <td>0.000000</td>\n",
       "    </tr>\n",
       "    <tr>\n",
       "      <th>25%</th>\n",
       "      <td>0.000000</td>\n",
       "      <td>0.000000e+00</td>\n",
       "      <td>0.000000e+00</td>\n",
       "      <td>0.0</td>\n",
       "      <td>0.000000</td>\n",
       "      <td>0.0</td>\n",
       "      <td>0.000000</td>\n",
       "      <td>0.000000</td>\n",
       "      <td>0.000000</td>\n",
       "      <td>0.000000</td>\n",
       "      <td>...</td>\n",
       "      <td>84.000000</td>\n",
       "      <td>10.000000</td>\n",
       "      <td>0.050000</td>\n",
       "      <td>0.000000</td>\n",
       "      <td>0.000000</td>\n",
       "      <td>0.000000</td>\n",
       "      <td>0.000000</td>\n",
       "      <td>0.000000</td>\n",
       "      <td>0.000000</td>\n",
       "      <td>0.000000</td>\n",
       "    </tr>\n",
       "    <tr>\n",
       "      <th>50%</th>\n",
       "      <td>0.000000</td>\n",
       "      <td>4.400000e+01</td>\n",
       "      <td>0.000000e+00</td>\n",
       "      <td>0.0</td>\n",
       "      <td>0.000000</td>\n",
       "      <td>0.0</td>\n",
       "      <td>0.000000</td>\n",
       "      <td>0.000000</td>\n",
       "      <td>0.000000</td>\n",
       "      <td>0.000000</td>\n",
       "      <td>...</td>\n",
       "      <td>255.000000</td>\n",
       "      <td>57.000000</td>\n",
       "      <td>0.480000</td>\n",
       "      <td>0.030000</td>\n",
       "      <td>0.010000</td>\n",
       "      <td>0.000000</td>\n",
       "      <td>0.000000</td>\n",
       "      <td>0.000000</td>\n",
       "      <td>0.000000</td>\n",
       "      <td>0.000000</td>\n",
       "    </tr>\n",
       "    <tr>\n",
       "      <th>75%</th>\n",
       "      <td>0.000000</td>\n",
       "      <td>2.840000e+02</td>\n",
       "      <td>4.870000e+02</td>\n",
       "      <td>0.0</td>\n",
       "      <td>0.000000</td>\n",
       "      <td>0.0</td>\n",
       "      <td>0.000000</td>\n",
       "      <td>0.000000</td>\n",
       "      <td>1.000000</td>\n",
       "      <td>0.000000</td>\n",
       "      <td>...</td>\n",
       "      <td>255.000000</td>\n",
       "      <td>255.000000</td>\n",
       "      <td>1.000000</td>\n",
       "      <td>0.070000</td>\n",
       "      <td>0.070000</td>\n",
       "      <td>0.020000</td>\n",
       "      <td>1.000000</td>\n",
       "      <td>1.000000</td>\n",
       "      <td>0.000000</td>\n",
       "      <td>0.000000</td>\n",
       "    </tr>\n",
       "    <tr>\n",
       "      <th>max</th>\n",
       "      <td>42470.000000</td>\n",
       "      <td>5.135678e+06</td>\n",
       "      <td>5.150836e+06</td>\n",
       "      <td>0.0</td>\n",
       "      <td>3.000000</td>\n",
       "      <td>0.0</td>\n",
       "      <td>30.000000</td>\n",
       "      <td>2.000000</td>\n",
       "      <td>1.000000</td>\n",
       "      <td>110.000000</td>\n",
       "      <td>...</td>\n",
       "      <td>255.000000</td>\n",
       "      <td>255.000000</td>\n",
       "      <td>1.000000</td>\n",
       "      <td>1.000000</td>\n",
       "      <td>1.000000</td>\n",
       "      <td>1.000000</td>\n",
       "      <td>1.000000</td>\n",
       "      <td>1.000000</td>\n",
       "      <td>1.000000</td>\n",
       "      <td>1.000000</td>\n",
       "    </tr>\n",
       "  </tbody>\n",
       "</table>\n",
       "<p>8 rows × 38 columns</p>\n",
       "</div>"
      ],
      "text/plain": [
       "           duration     src_bytes     dst_bytes    land  wrong_fragment  \\\n",
       "count   2519.000000  2.519000e+03  2.519000e+03  2519.0     2519.000000   \n",
       "mean     321.768956  1.263095e+04  4.337233e+03     0.0        0.021834   \n",
       "std     3002.574905  1.910415e+05  1.044361e+05     0.0        0.243908   \n",
       "min        0.000000  0.000000e+00  0.000000e+00     0.0        0.000000   \n",
       "25%        0.000000  0.000000e+00  0.000000e+00     0.0        0.000000   \n",
       "50%        0.000000  4.400000e+01  0.000000e+00     0.0        0.000000   \n",
       "75%        0.000000  2.840000e+02  4.870000e+02     0.0        0.000000   \n",
       "max    42470.000000  5.135678e+06  5.150836e+06     0.0        3.000000   \n",
       "\n",
       "       urgent          hot  num_failed_logins    logged_in  num_compromised  \\\n",
       "count  2519.0  2519.000000        2519.000000  2519.000000      2519.000000   \n",
       "mean      0.0     0.218738           0.001191     0.398174         0.064311   \n",
       "std       0.0     2.329020           0.044545     0.489619         2.234965   \n",
       "min       0.0     0.000000           0.000000     0.000000         0.000000   \n",
       "25%       0.0     0.000000           0.000000     0.000000         0.000000   \n",
       "50%       0.0     0.000000           0.000000     0.000000         0.000000   \n",
       "75%       0.0     0.000000           0.000000     1.000000         0.000000   \n",
       "max       0.0    30.000000           2.000000     1.000000       110.000000   \n",
       "\n",
       "       ...  dst_host_count  dst_host_srv_count  dst_host_same_srv_rate  \\\n",
       "count  ...     2519.000000         2519.000000             2519.000000   \n",
       "mean   ...      181.921000          113.283446                0.511874   \n",
       "std    ...       98.947602          110.336621                0.448497   \n",
       "min    ...        1.000000            1.000000                0.000000   \n",
       "25%    ...       84.000000           10.000000                0.050000   \n",
       "50%    ...      255.000000           57.000000                0.480000   \n",
       "75%    ...      255.000000          255.000000                1.000000   \n",
       "max    ...      255.000000          255.000000                1.000000   \n",
       "\n",
       "       dst_host_diff_srv_rate  dst_host_same_src_port_rate  \\\n",
       "count             2519.000000                  2519.000000   \n",
       "mean                 0.083077                     0.144569   \n",
       "std                  0.185537                     0.302175   \n",
       "min                  0.000000                     0.000000   \n",
       "25%                  0.000000                     0.000000   \n",
       "50%                  0.030000                     0.010000   \n",
       "75%                  0.070000                     0.070000   \n",
       "max                  1.000000                     1.000000   \n",
       "\n",
       "       dst_host_srv_diff_host_rate  dst_host_serror_rate  \\\n",
       "count                  2519.000000           2519.000000   \n",
       "mean                      0.030985              0.291108   \n",
       "std                       0.106414              0.447727   \n",
       "min                       0.000000              0.000000   \n",
       "25%                       0.000000              0.000000   \n",
       "50%                       0.000000              0.000000   \n",
       "75%                       0.020000              1.000000   \n",
       "max                       1.000000              1.000000   \n",
       "\n",
       "       dst_host_srv_serror_rate  dst_host_rerror_rate  \\\n",
       "count               2519.000000           2519.000000   \n",
       "mean                   0.285431              0.117487   \n",
       "std                    0.448924              0.303594   \n",
       "min                    0.000000              0.000000   \n",
       "25%                    0.000000              0.000000   \n",
       "50%                    0.000000              0.000000   \n",
       "75%                    1.000000              0.000000   \n",
       "max                    1.000000              1.000000   \n",
       "\n",
       "       dst_host_srv_rerror_rate  \n",
       "count               2519.000000  \n",
       "mean                   0.115697  \n",
       "std                    0.312336  \n",
       "min                    0.000000  \n",
       "25%                    0.000000  \n",
       "50%                    0.000000  \n",
       "75%                    0.000000  \n",
       "max                    1.000000  \n",
       "\n",
       "[8 rows x 38 columns]"
      ]
     },
     "execution_count": 7,
     "metadata": {},
     "output_type": "execute_result"
    }
   ],
   "source": [
    "train.describe()"
   ]
  },
  {
   "cell_type": "code",
   "execution_count": 8,
   "metadata": {},
   "outputs": [
    {
     "data": {
      "text/plain": [
       "['duration',\n",
       " 'protocol_type',\n",
       " 'service',\n",
       " 'flag',\n",
       " 'src_bytes',\n",
       " 'dst_bytes',\n",
       " 'land',\n",
       " 'wrong_fragment',\n",
       " 'urgent',\n",
       " 'hot',\n",
       " 'num_failed_logins',\n",
       " 'logged_in',\n",
       " 'num_compromised',\n",
       " 'root_shell',\n",
       " 'su_attempted',\n",
       " 'num_root',\n",
       " 'num_file_creations',\n",
       " 'num_shells',\n",
       " 'num_access_files',\n",
       " 'num_outbound_cmds',\n",
       " 'is_host_login',\n",
       " 'is_guest_login',\n",
       " 'count',\n",
       " 'srv_count',\n",
       " 'serror_rate',\n",
       " 'srv_serror_rate',\n",
       " 'rerror_rate',\n",
       " 'srv_rerror_rate',\n",
       " 'same_srv_rate',\n",
       " 'diff_srv_rate',\n",
       " 'srv_diff_host_rate',\n",
       " 'dst_host_count',\n",
       " 'dst_host_srv_count',\n",
       " 'dst_host_same_srv_rate',\n",
       " 'dst_host_diff_srv_rate',\n",
       " 'dst_host_same_src_port_rate',\n",
       " 'dst_host_srv_diff_host_rate',\n",
       " 'dst_host_serror_rate',\n",
       " 'dst_host_srv_serror_rate',\n",
       " 'dst_host_rerror_rate',\n",
       " 'dst_host_srv_rerror_rate',\n",
       " 'class']"
      ]
     },
     "execution_count": 8,
     "metadata": {},
     "output_type": "execute_result"
    }
   ],
   "source": [
    "list(train.columns)"
   ]
  },
  {
   "cell_type": "code",
   "execution_count": 5,
   "metadata": {},
   "outputs": [
    {
     "data": {
      "image/png": "[encoded data removed]",
      "text/plain": [
       "<Figure size 432x288 with 1 Axes>"
      ]
     },
     "metadata": {},
     "output_type": "display_data"
    }
   ],
   "source": [
    "ratio = train['class'].value_counts()\n",
    "labels = ratio.index[0], ratio.index[1]\n",
    "sizes = [ratio.values[0], ratio.values[1]]\n",
    "\n",
    "figure, axis = plt.subplots()\n",
    "axis.pie(sizes, labels=labels, autopct='%1.1f%%', startangle=90)\n",
    "axis.axis('equal')\n",
    "\n",
    "plt.show()"
   ]
  },
  {
   "cell_type": "code",
   "execution_count": 6,
   "metadata": {},
   "outputs": [],
   "source": [
    "train.drop(['num_outbound_cmds'], axis=1, inplace=True)\n",
    "test.drop(['num_outbound_cmds'], axis=1, inplace=True)"
   ]
  },
  {
   "cell_type": "code",
   "execution_count": 7,
   "metadata": {},
   "outputs": [
    {
     "data": {
      "text/plain": [
       "Index(['duration', 'src_bytes', 'dst_bytes', 'land', 'wrong_fragment',\n",
       "       'urgent', 'hot', 'num_failed_logins', 'logged_in', 'num_compromised',\n",
       "       'root_shell', 'su_attempted', 'num_root', 'num_file_creations',\n",
       "       'num_shells', 'num_access_files', 'is_host_login', 'is_guest_login',\n",
       "       'count', 'srv_count', 'serror_rate', 'srv_serror_rate', 'rerror_rate',\n",
       "       'srv_rerror_rate', 'same_srv_rate', 'diff_srv_rate',\n",
       "       'srv_diff_host_rate', 'dst_host_count', 'dst_host_srv_count',\n",
       "       'dst_host_same_srv_rate', 'dst_host_diff_srv_rate',\n",
       "       'dst_host_same_src_port_rate', 'dst_host_srv_diff_host_rate',\n",
       "       'dst_host_serror_rate', 'dst_host_srv_serror_rate',\n",
       "       'dst_host_rerror_rate', 'dst_host_srv_rerror_rate'],\n",
       "      dtype='object')"
      ]
     },
     "execution_count": 7,
     "metadata": {},
     "output_type": "execute_result"
    }
   ],
   "source": [
    "scaler = StandardScaler()\n",
    "# select only numerical columns for scaling\n",
    "num_cols = train.select_dtypes(include=['float64', 'int64']).columns\n",
    "num_cols\n",
    "\n",
    "\n"
   ]
  },
  {
   "cell_type": "code",
   "execution_count": 8,
   "metadata": {},
   "outputs": [],
   "source": [
    "# create a StandardScaler object\n",
    "scaler = StandardScaler()\n",
    "# fit the scaler on the selected columns and transform the data\n",
    "train[num_cols] = scaler.fit_transform(train[num_cols])"
   ]
  },
  {
   "cell_type": "code",
   "execution_count": 15,
   "metadata": {},
   "outputs": [
    {
     "data": {
      "text/html": [
       "<div>\n",
       "<style scoped>\n",
       "    .dataframe tbody tr th:only-of-type {\n",
       "        vertical-align: middle;\n",
       "    }\n",
       "\n",
       "    .dataframe tbody tr th {\n",
       "        vertical-align: top;\n",
       "    }\n",
       "\n",
       "    .dataframe thead th {\n",
       "        text-align: right;\n",
       "    }\n",
       "</style>\n",
       "<table border=\"1\" class=\"dataframe\">\n",
       "  <thead>\n",
       "    <tr style=\"text-align: right;\">\n",
       "      <th></th>\n",
       "      <th>duration</th>\n",
       "      <th>protocol_type</th>\n",
       "      <th>service</th>\n",
       "      <th>flag</th>\n",
       "      <th>src_bytes</th>\n",
       "      <th>dst_bytes</th>\n",
       "      <th>land</th>\n",
       "      <th>wrong_fragment</th>\n",
       "      <th>urgent</th>\n",
       "      <th>hot</th>\n",
       "      <th>...</th>\n",
       "      <th>dst_host_srv_count</th>\n",
       "      <th>dst_host_same_srv_rate</th>\n",
       "      <th>dst_host_diff_srv_rate</th>\n",
       "      <th>dst_host_same_src_port_rate</th>\n",
       "      <th>dst_host_srv_diff_host_rate</th>\n",
       "      <th>dst_host_serror_rate</th>\n",
       "      <th>dst_host_srv_serror_rate</th>\n",
       "      <th>dst_host_rerror_rate</th>\n",
       "      <th>dst_host_srv_rerror_rate</th>\n",
       "      <th>class</th>\n",
       "    </tr>\n",
       "  </thead>\n",
       "  <tbody>\n",
       "    <tr>\n",
       "      <th>15394</th>\n",
       "      <td>-0.113466</td>\n",
       "      <td>tcp</td>\n",
       "      <td>private</td>\n",
       "      <td>S0</td>\n",
       "      <td>-0.021393</td>\n",
       "      <td>-0.041077</td>\n",
       "      <td>-0.019928</td>\n",
       "      <td>-0.05988</td>\n",
       "      <td>0.0</td>\n",
       "      <td>-0.093714</td>\n",
       "      <td>...</td>\n",
       "      <td>-0.969018</td>\n",
       "      <td>-1.093083</td>\n",
       "      <td>-0.077583</td>\n",
       "      <td>-0.470887</td>\n",
       "      <td>-0.280759</td>\n",
       "      <td>1.623224</td>\n",
       "      <td>1.635323</td>\n",
       "      <td>-0.372440</td>\n",
       "      <td>-0.363769</td>\n",
       "      <td>0</td>\n",
       "    </tr>\n",
       "    <tr>\n",
       "      <th>7904</th>\n",
       "      <td>-0.113466</td>\n",
       "      <td>tcp</td>\n",
       "      <td>private</td>\n",
       "      <td>S0</td>\n",
       "      <td>-0.021393</td>\n",
       "      <td>-0.041077</td>\n",
       "      <td>-0.019928</td>\n",
       "      <td>-0.05988</td>\n",
       "      <td>0.0</td>\n",
       "      <td>-0.093714</td>\n",
       "      <td>...</td>\n",
       "      <td>-0.933147</td>\n",
       "      <td>-1.070893</td>\n",
       "      <td>-0.129040</td>\n",
       "      <td>-0.470887</td>\n",
       "      <td>-0.280759</td>\n",
       "      <td>1.623224</td>\n",
       "      <td>1.635323</td>\n",
       "      <td>-0.372440</td>\n",
       "      <td>-0.363769</td>\n",
       "      <td>0</td>\n",
       "    </tr>\n",
       "    <tr>\n",
       "      <th>10589</th>\n",
       "      <td>-0.113466</td>\n",
       "      <td>tcp</td>\n",
       "      <td>http</td>\n",
       "      <td>SF</td>\n",
       "      <td>-0.021364</td>\n",
       "      <td>-0.036312</td>\n",
       "      <td>-0.019928</td>\n",
       "      <td>-0.05988</td>\n",
       "      <td>0.0</td>\n",
       "      <td>-0.093714</td>\n",
       "      <td>...</td>\n",
       "      <td>1.237087</td>\n",
       "      <td>1.037077</td>\n",
       "      <td>-0.437780</td>\n",
       "      <td>-0.406514</td>\n",
       "      <td>-0.030086</td>\n",
       "      <td>-0.633344</td>\n",
       "      <td>-0.619622</td>\n",
       "      <td>-0.035572</td>\n",
       "      <td>-0.266789</td>\n",
       "      <td>1</td>\n",
       "    </tr>\n",
       "    <tr>\n",
       "      <th>13097</th>\n",
       "      <td>-0.113466</td>\n",
       "      <td>tcp</td>\n",
       "      <td>private</td>\n",
       "      <td>S0</td>\n",
       "      <td>-0.021393</td>\n",
       "      <td>-0.041077</td>\n",
       "      <td>-0.019928</td>\n",
       "      <td>-0.05988</td>\n",
       "      <td>0.0</td>\n",
       "      <td>-0.093714</td>\n",
       "      <td>...</td>\n",
       "      <td>-0.942115</td>\n",
       "      <td>-1.070893</td>\n",
       "      <td>-0.129040</td>\n",
       "      <td>-0.470887</td>\n",
       "      <td>-0.280759</td>\n",
       "      <td>1.623224</td>\n",
       "      <td>1.635323</td>\n",
       "      <td>-0.372440</td>\n",
       "      <td>-0.363769</td>\n",
       "      <td>0</td>\n",
       "    </tr>\n",
       "    <tr>\n",
       "      <th>5269</th>\n",
       "      <td>-0.113466</td>\n",
       "      <td>tcp</td>\n",
       "      <td>courier</td>\n",
       "      <td>S0</td>\n",
       "      <td>-0.021393</td>\n",
       "      <td>-0.041077</td>\n",
       "      <td>-0.019928</td>\n",
       "      <td>-0.05988</td>\n",
       "      <td>0.0</td>\n",
       "      <td>-0.093714</td>\n",
       "      <td>...</td>\n",
       "      <td>-1.040762</td>\n",
       "      <td>-1.181839</td>\n",
       "      <td>-0.180497</td>\n",
       "      <td>-0.470887</td>\n",
       "      <td>-0.280759</td>\n",
       "      <td>1.623224</td>\n",
       "      <td>1.635323</td>\n",
       "      <td>-0.372440</td>\n",
       "      <td>-0.363769</td>\n",
       "      <td>0</td>\n",
       "    </tr>\n",
       "  </tbody>\n",
       "</table>\n",
       "<p>5 rows × 41 columns</p>\n",
       "</div>"
      ],
      "text/plain": [
       "       duration protocol_type  service flag  src_bytes  dst_bytes      land  \\\n",
       "15394 -0.113466           tcp  private   S0  -0.021393  -0.041077 -0.019928   \n",
       "7904  -0.113466           tcp  private   S0  -0.021393  -0.041077 -0.019928   \n",
       "10589 -0.113466           tcp     http   SF  -0.021364  -0.036312 -0.019928   \n",
       "13097 -0.113466           tcp  private   S0  -0.021393  -0.041077 -0.019928   \n",
       "5269  -0.113466           tcp  courier   S0  -0.021393  -0.041077 -0.019928   \n",
       "\n",
       "       wrong_fragment  urgent       hot  ...  dst_host_srv_count  \\\n",
       "15394        -0.05988     0.0 -0.093714  ...           -0.969018   \n",
       "7904         -0.05988     0.0 -0.093714  ...           -0.933147   \n",
       "10589        -0.05988     0.0 -0.093714  ...            1.237087   \n",
       "13097        -0.05988     0.0 -0.093714  ...           -0.942115   \n",
       "5269         -0.05988     0.0 -0.093714  ...           -1.040762   \n",
       "\n",
       "       dst_host_same_srv_rate  dst_host_diff_srv_rate  \\\n",
       "15394               -1.093083               -0.077583   \n",
       "7904                -1.070893               -0.129040   \n",
       "10589                1.037077               -0.437780   \n",
       "13097               -1.070893               -0.129040   \n",
       "5269                -1.181839               -0.180497   \n",
       "\n",
       "       dst_host_same_src_port_rate  dst_host_srv_diff_host_rate  \\\n",
       "15394                    -0.470887                    -0.280759   \n",
       "7904                     -0.470887                    -0.280759   \n",
       "10589                    -0.406514                    -0.030086   \n",
       "13097                    -0.470887                    -0.280759   \n",
       "5269                     -0.470887                    -0.280759   \n",
       "\n",
       "       dst_host_serror_rate  dst_host_srv_serror_rate  dst_host_rerror_rate  \\\n",
       "15394              1.623224                  1.635323             -0.372440   \n",
       "7904               1.623224                  1.635323             -0.372440   \n",
       "10589             -0.633344                 -0.619622             -0.035572   \n",
       "13097              1.623224                  1.635323             -0.372440   \n",
       "5269               1.623224                  1.635323             -0.372440   \n",
       "\n",
       "       dst_host_srv_rerror_rate  class  \n",
       "15394                 -0.363769      0  \n",
       "7904                  -0.363769      0  \n",
       "10589                 -0.266789      1  \n",
       "13097                 -0.363769      0  \n",
       "5269                  -0.363769      0  \n",
       "\n",
       "[5 rows x 41 columns]"
      ]
     },
     "execution_count": 15,
     "metadata": {},
     "output_type": "execute_result"
    }
   ],
   "source": [
    "train.head()"
   ]
  },
  {
   "cell_type": "code",
   "execution_count": 16,
   "metadata": {},
   "outputs": [
    {
     "name": "stdout",
     "output_type": "stream",
     "text": [
      "duration                       0\n",
      "protocol_type                  0\n",
      "service                        0\n",
      "flag                           0\n",
      "src_bytes                      0\n",
      "dst_bytes                      0\n",
      "land                           0\n",
      "wrong_fragment                 0\n",
      "urgent                         0\n",
      "hot                            0\n",
      "num_failed_logins              0\n",
      "logged_in                      0\n",
      "num_compromised                0\n",
      "root_shell                     0\n",
      "su_attempted                   0\n",
      "num_root                       0\n",
      "num_file_creations             0\n",
      "num_shells                     0\n",
      "num_access_files               0\n",
      "is_host_login                  0\n",
      "is_guest_login                 0\n",
      "count                          0\n",
      "srv_count                      0\n",
      "serror_rate                    0\n",
      "srv_serror_rate                0\n",
      "rerror_rate                    0\n",
      "srv_rerror_rate                0\n",
      "same_srv_rate                  0\n",
      "diff_srv_rate                  0\n",
      "srv_diff_host_rate             0\n",
      "dst_host_count                 0\n",
      "dst_host_srv_count             0\n",
      "dst_host_same_srv_rate         0\n",
      "dst_host_diff_srv_rate         0\n",
      "dst_host_same_src_port_rate    0\n",
      "dst_host_srv_diff_host_rate    0\n",
      "dst_host_serror_rate           0\n",
      "dst_host_srv_serror_rate       0\n",
      "dst_host_rerror_rate           0\n",
      "dst_host_srv_rerror_rate       0\n",
      "class                          0\n",
      "dtype: int64\n"
     ]
    }
   ],
   "source": [
    "# check for null values\n",
    "print(train.isnull().sum())"
   ]
  },
  {
   "cell_type": "code",
   "execution_count": 9,
   "metadata": {},
   "outputs": [],
   "source": [
    "from sklearn.preprocessing import LabelEncoder\n",
    "\n",
    "# Initialize the encoder\n",
    "encoder = LabelEncoder()\n",
    "\n",
    "# Fit the encoder on the \"class\" column\n",
    "encoder.fit(train['class'])\n",
    "\n",
    "# Transform the \"Label\" column to its encoded representation\n",
    "train['class'] = encoder.transform(train['class'])"
   ]
  },
  {
   "cell_type": "code",
   "execution_count": 10,
   "metadata": {},
   "outputs": [],
   "source": [
    "train_x=train.drop('class',axis=1)\n",
    "train_y=train['class']"
   ]
  },
  {
   "cell_type": "code",
   "execution_count": 19,
   "metadata": {},
   "outputs": [
    {
     "data": {
      "text/html": [
       "<div>\n",
       "<style scoped>\n",
       "    .dataframe tbody tr th:only-of-type {\n",
       "        vertical-align: middle;\n",
       "    }\n",
       "\n",
       "    .dataframe tbody tr th {\n",
       "        vertical-align: top;\n",
       "    }\n",
       "\n",
       "    .dataframe thead th {\n",
       "        text-align: right;\n",
       "    }\n",
       "</style>\n",
       "<table border=\"1\" class=\"dataframe\">\n",
       "  <thead>\n",
       "    <tr style=\"text-align: right;\">\n",
       "      <th></th>\n",
       "      <th>duration</th>\n",
       "      <th>protocol_type</th>\n",
       "      <th>service</th>\n",
       "      <th>flag</th>\n",
       "      <th>src_bytes</th>\n",
       "      <th>dst_bytes</th>\n",
       "      <th>land</th>\n",
       "      <th>wrong_fragment</th>\n",
       "      <th>urgent</th>\n",
       "      <th>hot</th>\n",
       "      <th>...</th>\n",
       "      <th>dst_host_count</th>\n",
       "      <th>dst_host_srv_count</th>\n",
       "      <th>dst_host_same_srv_rate</th>\n",
       "      <th>dst_host_diff_srv_rate</th>\n",
       "      <th>dst_host_same_src_port_rate</th>\n",
       "      <th>dst_host_srv_diff_host_rate</th>\n",
       "      <th>dst_host_serror_rate</th>\n",
       "      <th>dst_host_srv_serror_rate</th>\n",
       "      <th>dst_host_rerror_rate</th>\n",
       "      <th>dst_host_srv_rerror_rate</th>\n",
       "    </tr>\n",
       "  </thead>\n",
       "  <tbody>\n",
       "    <tr>\n",
       "      <th>15394</th>\n",
       "      <td>-0.113466</td>\n",
       "      <td>tcp</td>\n",
       "      <td>private</td>\n",
       "      <td>S0</td>\n",
       "      <td>-0.021393</td>\n",
       "      <td>-0.041077</td>\n",
       "      <td>-0.019928</td>\n",
       "      <td>-0.05988</td>\n",
       "      <td>0.0</td>\n",
       "      <td>-0.093714</td>\n",
       "      <td>...</td>\n",
       "      <td>0.727444</td>\n",
       "      <td>-0.969018</td>\n",
       "      <td>-1.093083</td>\n",
       "      <td>-0.077583</td>\n",
       "      <td>-0.470887</td>\n",
       "      <td>-0.280759</td>\n",
       "      <td>1.623224</td>\n",
       "      <td>1.635323</td>\n",
       "      <td>-0.372440</td>\n",
       "      <td>-0.363769</td>\n",
       "    </tr>\n",
       "    <tr>\n",
       "      <th>7904</th>\n",
       "      <td>-0.113466</td>\n",
       "      <td>tcp</td>\n",
       "      <td>private</td>\n",
       "      <td>S0</td>\n",
       "      <td>-0.021393</td>\n",
       "      <td>-0.041077</td>\n",
       "      <td>-0.019928</td>\n",
       "      <td>-0.05988</td>\n",
       "      <td>0.0</td>\n",
       "      <td>-0.093714</td>\n",
       "      <td>...</td>\n",
       "      <td>0.727444</td>\n",
       "      <td>-0.933147</td>\n",
       "      <td>-1.070893</td>\n",
       "      <td>-0.129040</td>\n",
       "      <td>-0.470887</td>\n",
       "      <td>-0.280759</td>\n",
       "      <td>1.623224</td>\n",
       "      <td>1.635323</td>\n",
       "      <td>-0.372440</td>\n",
       "      <td>-0.363769</td>\n",
       "    </tr>\n",
       "    <tr>\n",
       "      <th>10589</th>\n",
       "      <td>-0.113466</td>\n",
       "      <td>tcp</td>\n",
       "      <td>http</td>\n",
       "      <td>SF</td>\n",
       "      <td>-0.021364</td>\n",
       "      <td>-0.036312</td>\n",
       "      <td>-0.019928</td>\n",
       "      <td>-0.05988</td>\n",
       "      <td>0.0</td>\n",
       "      <td>-0.093714</td>\n",
       "      <td>...</td>\n",
       "      <td>-1.429250</td>\n",
       "      <td>1.237087</td>\n",
       "      <td>1.037077</td>\n",
       "      <td>-0.437780</td>\n",
       "      <td>-0.406514</td>\n",
       "      <td>-0.030086</td>\n",
       "      <td>-0.633344</td>\n",
       "      <td>-0.619622</td>\n",
       "      <td>-0.035572</td>\n",
       "      <td>-0.266789</td>\n",
       "    </tr>\n",
       "    <tr>\n",
       "      <th>13097</th>\n",
       "      <td>-0.113466</td>\n",
       "      <td>tcp</td>\n",
       "      <td>private</td>\n",
       "      <td>S0</td>\n",
       "      <td>-0.021393</td>\n",
       "      <td>-0.041077</td>\n",
       "      <td>-0.019928</td>\n",
       "      <td>-0.05988</td>\n",
       "      <td>0.0</td>\n",
       "      <td>-0.093714</td>\n",
       "      <td>...</td>\n",
       "      <td>0.727444</td>\n",
       "      <td>-0.942115</td>\n",
       "      <td>-1.070893</td>\n",
       "      <td>-0.129040</td>\n",
       "      <td>-0.470887</td>\n",
       "      <td>-0.280759</td>\n",
       "      <td>1.623224</td>\n",
       "      <td>1.635323</td>\n",
       "      <td>-0.372440</td>\n",
       "      <td>-0.363769</td>\n",
       "    </tr>\n",
       "    <tr>\n",
       "      <th>5269</th>\n",
       "      <td>-0.113466</td>\n",
       "      <td>tcp</td>\n",
       "      <td>courier</td>\n",
       "      <td>S0</td>\n",
       "      <td>-0.021393</td>\n",
       "      <td>-0.041077</td>\n",
       "      <td>-0.019928</td>\n",
       "      <td>-0.05988</td>\n",
       "      <td>0.0</td>\n",
       "      <td>-0.093714</td>\n",
       "      <td>...</td>\n",
       "      <td>0.727444</td>\n",
       "      <td>-1.040762</td>\n",
       "      <td>-1.181839</td>\n",
       "      <td>-0.180497</td>\n",
       "      <td>-0.470887</td>\n",
       "      <td>-0.280759</td>\n",
       "      <td>1.623224</td>\n",
       "      <td>1.635323</td>\n",
       "      <td>-0.372440</td>\n",
       "      <td>-0.363769</td>\n",
       "    </tr>\n",
       "  </tbody>\n",
       "</table>\n",
       "<p>5 rows × 40 columns</p>\n",
       "</div>"
      ],
      "text/plain": [
       "       duration protocol_type  service flag  src_bytes  dst_bytes      land  \\\n",
       "15394 -0.113466           tcp  private   S0  -0.021393  -0.041077 -0.019928   \n",
       "7904  -0.113466           tcp  private   S0  -0.021393  -0.041077 -0.019928   \n",
       "10589 -0.113466           tcp     http   SF  -0.021364  -0.036312 -0.019928   \n",
       "13097 -0.113466           tcp  private   S0  -0.021393  -0.041077 -0.019928   \n",
       "5269  -0.113466           tcp  courier   S0  -0.021393  -0.041077 -0.019928   \n",
       "\n",
       "       wrong_fragment  urgent       hot  ...  dst_host_count  \\\n",
       "15394        -0.05988     0.0 -0.093714  ...        0.727444   \n",
       "7904         -0.05988     0.0 -0.093714  ...        0.727444   \n",
       "10589        -0.05988     0.0 -0.093714  ...       -1.429250   \n",
       "13097        -0.05988     0.0 -0.093714  ...        0.727444   \n",
       "5269         -0.05988     0.0 -0.093714  ...        0.727444   \n",
       "\n",
       "       dst_host_srv_count  dst_host_same_srv_rate  dst_host_diff_srv_rate  \\\n",
       "15394           -0.969018               -1.093083               -0.077583   \n",
       "7904            -0.933147               -1.070893               -0.129040   \n",
       "10589            1.237087                1.037077               -0.437780   \n",
       "13097           -0.942115               -1.070893               -0.129040   \n",
       "5269            -1.040762               -1.181839               -0.180497   \n",
       "\n",
       "       dst_host_same_src_port_rate  dst_host_srv_diff_host_rate  \\\n",
       "15394                    -0.470887                    -0.280759   \n",
       "7904                     -0.470887                    -0.280759   \n",
       "10589                    -0.406514                    -0.030086   \n",
       "13097                    -0.470887                    -0.280759   \n",
       "5269                     -0.470887                    -0.280759   \n",
       "\n",
       "       dst_host_serror_rate  dst_host_srv_serror_rate  dst_host_rerror_rate  \\\n",
       "15394              1.623224                  1.635323             -0.372440   \n",
       "7904               1.623224                  1.635323             -0.372440   \n",
       "10589             -0.633344                 -0.619622             -0.035572   \n",
       "13097              1.623224                  1.635323             -0.372440   \n",
       "5269               1.623224                  1.635323             -0.372440   \n",
       "\n",
       "       dst_host_srv_rerror_rate  \n",
       "15394                 -0.363769  \n",
       "7904                  -0.363769  \n",
       "10589                 -0.266789  \n",
       "13097                 -0.363769  \n",
       "5269                  -0.363769  \n",
       "\n",
       "[5 rows x 40 columns]"
      ]
     },
     "execution_count": 19,
     "metadata": {},
     "output_type": "execute_result"
    }
   ],
   "source": [
    "train_x.head()"
   ]
  },
  {
   "cell_type": "code",
   "execution_count": 20,
   "metadata": {},
   "outputs": [
    {
     "data": {
      "text/plain": [
       "15394    0\n",
       "7904     0\n",
       "10589    1\n",
       "13097    0\n",
       "5269     0\n",
       "Name: class, dtype: int64"
      ]
     },
     "execution_count": 20,
     "metadata": {},
     "output_type": "execute_result"
    }
   ],
   "source": [
    "train_y.head()"
   ]
  },
  {
   "cell_type": "code",
   "execution_count": 21,
   "metadata": {},
   "outputs": [
    {
     "data": {
      "text/plain": [
       "(2519, 40)"
      ]
     },
     "execution_count": 21,
     "metadata": {},
     "output_type": "execute_result"
    }
   ],
   "source": [
    "train_x.shape"
   ]
  },
  {
   "cell_type": "code",
   "execution_count": 22,
   "metadata": {},
   "outputs": [
    {
     "data": {
      "text/plain": [
       "Index(['duration', 'protocol_type', 'service', 'flag', 'src_bytes',\n",
       "       'dst_bytes', 'land', 'wrong_fragment', 'urgent', 'hot',\n",
       "       'num_failed_logins', 'logged_in', 'num_compromised', 'root_shell',\n",
       "       'su_attempted', 'num_root', 'num_file_creations', 'num_shells',\n",
       "       'num_access_files', 'is_host_login', 'is_guest_login', 'count',\n",
       "       'srv_count', 'serror_rate', 'srv_serror_rate', 'rerror_rate',\n",
       "       'srv_rerror_rate', 'same_srv_rate', 'diff_srv_rate',\n",
       "       'srv_diff_host_rate', 'dst_host_count', 'dst_host_srv_count',\n",
       "       'dst_host_same_srv_rate', 'dst_host_diff_srv_rate',\n",
       "       'dst_host_same_src_port_rate', 'dst_host_srv_diff_host_rate',\n",
       "       'dst_host_serror_rate', 'dst_host_srv_serror_rate',\n",
       "       'dst_host_rerror_rate', 'dst_host_srv_rerror_rate'],\n",
       "      dtype='object')"
      ]
     },
     "execution_count": 22,
     "metadata": {},
     "output_type": "execute_result"
    }
   ],
   "source": [
    "train_x.columns"
   ]
  },
  {
   "cell_type": "code",
   "execution_count": 11,
   "metadata": {},
   "outputs": [],
   "source": [
    "train_x=train_x.drop('protocol_type',axis=1)\n",
    "train_x=train_x.drop('service',axis=1)\n",
    "train_x=train_x.drop('flag',axis=1)"
   ]
  },
  {
   "cell_type": "code",
   "execution_count": 12,
   "metadata": {},
   "outputs": [],
   "source": [
    "train_y = np.array(train_y) "
   ]
  },
  {
   "attachments": {},
   "cell_type": "markdown",
   "metadata": {},
   "source": [
    "Random Forest"
   ]
  },
  {
   "cell_type": "code",
   "execution_count": 13,
   "metadata": {},
   "outputs": [],
   "source": [
    "trainX, testX, trainY, testY = train_test_split(train_x,train_y,test_size=0.4, random_state=1)"
   ]
  },
  {
   "cell_type": "code",
   "execution_count": 28,
   "metadata": {},
   "outputs": [
    {
     "data": {
      "text/html": [
       "<div>\n",
       "<style scoped>\n",
       "    .dataframe tbody tr th:only-of-type {\n",
       "        vertical-align: middle;\n",
       "    }\n",
       "\n",
       "    .dataframe tbody tr th {\n",
       "        vertical-align: top;\n",
       "    }\n",
       "\n",
       "    .dataframe thead th {\n",
       "        text-align: right;\n",
       "    }\n",
       "</style>\n",
       "<table border=\"1\" class=\"dataframe\">\n",
       "  <thead>\n",
       "    <tr style=\"text-align: right;\">\n",
       "      <th></th>\n",
       "      <th>duration</th>\n",
       "      <th>src_bytes</th>\n",
       "      <th>dst_bytes</th>\n",
       "      <th>land</th>\n",
       "      <th>wrong_fragment</th>\n",
       "      <th>urgent</th>\n",
       "      <th>hot</th>\n",
       "      <th>num_failed_logins</th>\n",
       "      <th>logged_in</th>\n",
       "      <th>num_compromised</th>\n",
       "      <th>...</th>\n",
       "      <th>dst_host_count</th>\n",
       "      <th>dst_host_srv_count</th>\n",
       "      <th>dst_host_same_srv_rate</th>\n",
       "      <th>dst_host_diff_srv_rate</th>\n",
       "      <th>dst_host_same_src_port_rate</th>\n",
       "      <th>dst_host_srv_diff_host_rate</th>\n",
       "      <th>dst_host_serror_rate</th>\n",
       "      <th>dst_host_srv_serror_rate</th>\n",
       "      <th>dst_host_rerror_rate</th>\n",
       "      <th>dst_host_srv_rerror_rate</th>\n",
       "    </tr>\n",
       "  </thead>\n",
       "  <tbody>\n",
       "    <tr>\n",
       "      <th>8546</th>\n",
       "      <td>-0.113466</td>\n",
       "      <td>-0.021392</td>\n",
       "      <td>-0.041077</td>\n",
       "      <td>-0.019928</td>\n",
       "      <td>-0.05988</td>\n",
       "      <td>0.0</td>\n",
       "      <td>-0.093714</td>\n",
       "      <td>-0.028189</td>\n",
       "      <td>-0.812720</td>\n",
       "      <td>-0.031452</td>\n",
       "      <td>...</td>\n",
       "      <td>-1.834263</td>\n",
       "      <td>-0.655141</td>\n",
       "      <td>1.037077</td>\n",
       "      <td>-0.437780</td>\n",
       "      <td>2.747751</td>\n",
       "      <td>4.064242</td>\n",
       "      <td>-0.633344</td>\n",
       "      <td>-0.619622</td>\n",
       "      <td>-0.372440</td>\n",
       "      <td>-0.363769</td>\n",
       "    </tr>\n",
       "    <tr>\n",
       "      <th>3664</th>\n",
       "      <td>-0.113466</td>\n",
       "      <td>-0.021372</td>\n",
       "      <td>-0.027598</td>\n",
       "      <td>-0.019928</td>\n",
       "      <td>-0.05988</td>\n",
       "      <td>0.0</td>\n",
       "      <td>-0.093714</td>\n",
       "      <td>-0.028189</td>\n",
       "      <td>1.230436</td>\n",
       "      <td>-0.031452</td>\n",
       "      <td>...</td>\n",
       "      <td>-1.682383</td>\n",
       "      <td>1.237087</td>\n",
       "      <td>1.037077</td>\n",
       "      <td>-0.437780</td>\n",
       "      <td>-0.277769</td>\n",
       "      <td>0.053472</td>\n",
       "      <td>-0.633344</td>\n",
       "      <td>-0.619622</td>\n",
       "      <td>-0.372440</td>\n",
       "      <td>-0.363769</td>\n",
       "    </tr>\n",
       "    <tr>\n",
       "      <th>16604</th>\n",
       "      <td>-0.113466</td>\n",
       "      <td>-0.021343</td>\n",
       "      <td>-0.036318</td>\n",
       "      <td>-0.019928</td>\n",
       "      <td>-0.05988</td>\n",
       "      <td>0.0</td>\n",
       "      <td>-0.093714</td>\n",
       "      <td>-0.028189</td>\n",
       "      <td>1.230436</td>\n",
       "      <td>-0.031452</td>\n",
       "      <td>...</td>\n",
       "      <td>-0.578723</td>\n",
       "      <td>1.237087</td>\n",
       "      <td>1.037077</td>\n",
       "      <td>-0.437780</td>\n",
       "      <td>-0.438701</td>\n",
       "      <td>-0.197202</td>\n",
       "      <td>-0.633344</td>\n",
       "      <td>-0.619622</td>\n",
       "      <td>-0.372440</td>\n",
       "      <td>-0.363769</td>\n",
       "    </tr>\n",
       "    <tr>\n",
       "      <th>18182</th>\n",
       "      <td>-0.113466</td>\n",
       "      <td>-0.021387</td>\n",
       "      <td>-0.040789</td>\n",
       "      <td>-0.019928</td>\n",
       "      <td>-0.05988</td>\n",
       "      <td>0.0</td>\n",
       "      <td>-0.093714</td>\n",
       "      <td>-0.028189</td>\n",
       "      <td>-0.812720</td>\n",
       "      <td>-0.031452</td>\n",
       "      <td>...</td>\n",
       "      <td>-0.943235</td>\n",
       "      <td>-0.251586</td>\n",
       "      <td>1.014888</td>\n",
       "      <td>-0.334867</td>\n",
       "      <td>-0.438701</td>\n",
       "      <td>-0.280759</td>\n",
       "      <td>-0.633344</td>\n",
       "      <td>-0.619622</td>\n",
       "      <td>-0.372440</td>\n",
       "      <td>-0.363769</td>\n",
       "    </tr>\n",
       "    <tr>\n",
       "      <th>21922</th>\n",
       "      <td>-0.113466</td>\n",
       "      <td>-0.021393</td>\n",
       "      <td>-0.041077</td>\n",
       "      <td>-0.019928</td>\n",
       "      <td>-0.05988</td>\n",
       "      <td>0.0</td>\n",
       "      <td>-0.093714</td>\n",
       "      <td>-0.028189</td>\n",
       "      <td>-0.812720</td>\n",
       "      <td>-0.031452</td>\n",
       "      <td>...</td>\n",
       "      <td>0.727444</td>\n",
       "      <td>-0.924179</td>\n",
       "      <td>-1.070893</td>\n",
       "      <td>-0.077583</td>\n",
       "      <td>-0.470887</td>\n",
       "      <td>-0.280759</td>\n",
       "      <td>-0.633344</td>\n",
       "      <td>-0.619622</td>\n",
       "      <td>2.996238</td>\n",
       "      <td>2.868908</td>\n",
       "    </tr>\n",
       "  </tbody>\n",
       "</table>\n",
       "<p>5 rows × 37 columns</p>\n",
       "</div>"
      ],
      "text/plain": [
       "       duration  src_bytes  dst_bytes      land  wrong_fragment  urgent  \\\n",
       "8546  -0.113466  -0.021392  -0.041077 -0.019928        -0.05988     0.0   \n",
       "3664  -0.113466  -0.021372  -0.027598 -0.019928        -0.05988     0.0   \n",
       "16604 -0.113466  -0.021343  -0.036318 -0.019928        -0.05988     0.0   \n",
       "18182 -0.113466  -0.021387  -0.040789 -0.019928        -0.05988     0.0   \n",
       "21922 -0.113466  -0.021393  -0.041077 -0.019928        -0.05988     0.0   \n",
       "\n",
       "            hot  num_failed_logins  logged_in  num_compromised  ...  \\\n",
       "8546  -0.093714          -0.028189  -0.812720        -0.031452  ...   \n",
       "3664  -0.093714          -0.028189   1.230436        -0.031452  ...   \n",
       "16604 -0.093714          -0.028189   1.230436        -0.031452  ...   \n",
       "18182 -0.093714          -0.028189  -0.812720        -0.031452  ...   \n",
       "21922 -0.093714          -0.028189  -0.812720        -0.031452  ...   \n",
       "\n",
       "       dst_host_count  dst_host_srv_count  dst_host_same_srv_rate  \\\n",
       "8546        -1.834263           -0.655141                1.037077   \n",
       "3664        -1.682383            1.237087                1.037077   \n",
       "16604       -0.578723            1.237087                1.037077   \n",
       "18182       -0.943235           -0.251586                1.014888   \n",
       "21922        0.727444           -0.924179               -1.070893   \n",
       "\n",
       "       dst_host_diff_srv_rate  dst_host_same_src_port_rate  \\\n",
       "8546                -0.437780                     2.747751   \n",
       "3664                -0.437780                    -0.277769   \n",
       "16604               -0.437780                    -0.438701   \n",
       "18182               -0.334867                    -0.438701   \n",
       "21922               -0.077583                    -0.470887   \n",
       "\n",
       "       dst_host_srv_diff_host_rate  dst_host_serror_rate  \\\n",
       "8546                      4.064242             -0.633344   \n",
       "3664                      0.053472             -0.633344   \n",
       "16604                    -0.197202             -0.633344   \n",
       "18182                    -0.280759             -0.633344   \n",
       "21922                    -0.280759             -0.633344   \n",
       "\n",
       "       dst_host_srv_serror_rate  dst_host_rerror_rate  \\\n",
       "8546                  -0.619622             -0.372440   \n",
       "3664                  -0.619622             -0.372440   \n",
       "16604                 -0.619622             -0.372440   \n",
       "18182                 -0.619622             -0.372440   \n",
       "21922                 -0.619622              2.996238   \n",
       "\n",
       "       dst_host_srv_rerror_rate  \n",
       "8546                  -0.363769  \n",
       "3664                  -0.363769  \n",
       "16604                 -0.363769  \n",
       "18182                 -0.363769  \n",
       "21922                  2.868908  \n",
       "\n",
       "[5 rows x 37 columns]"
      ]
     },
     "execution_count": 28,
     "metadata": {},
     "output_type": "execute_result"
    }
   ],
   "source": [
    "trainX.head()"
   ]
  },
  {
   "cell_type": "markdown",
   "metadata": {},
   "source": [
    "Random Forest"
   ]
  },
  {
   "cell_type": "code",
   "execution_count": 32,
   "metadata": {},
   "outputs": [
    {
     "data": {
      "text/plain": [
       "0.9861111111111112"
      ]
     },
     "execution_count": 32,
     "metadata": {},
     "output_type": "execute_result"
    }
   ],
   "source": [
    "rfc = RandomForestClassifier();\n",
    "rfc.fit(trainX, trainY);\n",
    "rfc.score(testX,testY)"
   ]
  },
  {
   "cell_type": "code",
   "execution_count": 34,
   "metadata": {},
   "outputs": [
    {
     "name": "stdout",
     "output_type": "stream",
     "text": [
      "\n",
      "CLASSIFICATION REPORT\n",
      "\n",
      "              precision    recall  f1-score   support\n",
      "\n",
      "         Bad       0.98      0.99      0.98       460\n",
      "        Good       0.99      0.98      0.99       548\n",
      "\n",
      "    accuracy                           0.99      1008\n",
      "   macro avg       0.99      0.99      0.99      1008\n",
      "weighted avg       0.99      0.99      0.99      1008\n",
      "\n",
      "\n",
      "CONFUSION MATRIX\n"
     ]
    },
    {
     "data": {
      "image/png": "[encoded data removed]",
      "text/plain": [
       "<Figure size 432x288 with 2 Axes>"
      ]
     },
     "metadata": {
      "needs_background": "light"
     },
     "output_type": "display_data"
    }
   ],
   "source": [
    "print('\\nCLASSIFICATION REPORT\\n')\n",
    "print(classification_report(rfc.predict(testX), testY,\n",
    "                            target_names =['Bad','Good']))\n",
    "print('\\nCONFUSION MATRIX')\n",
    "confusion_matrix = metrics.confusion_matrix(rfc.predict(testX), testY)\n",
    "cm_display = metrics.ConfusionMatrixDisplay(confusion_matrix = confusion_matrix, display_labels = [False, True])\n",
    "cm_display.plot()\n",
    "plt.show()"
   ]
  },
  {
   "cell_type": "code",
   "execution_count": 35,
   "metadata": {},
   "outputs": [
    {
     "data": {
      "image/png": "[encoded data removed]",
      "text/plain": [
       "<Figure size 432x288 with 1 Axes>"
      ]
     },
     "metadata": {
      "needs_background": "light"
     },
     "output_type": "display_data"
    }
   ],
   "source": [
    "from sklearn.metrics import roc_curve, auc\n",
    "# Generate false positive rate, true positive rate, and thresholds\n",
    "fpr, tpr, thresholds = roc_curve(testY,rfc.predict(testX))\n",
    "# Compute AUC\n",
    "roc_auc = auc(fpr, tpr)\n",
    "# Plot ROC curve\n",
    "plt.title('Receiver Operating Characteristic')\n",
    "plt.plot(fpr, tpr, 'b', label = 'AUC = %0.2f' % roc_auc)\n",
    "plt.legend(loc = 'lower right')\n",
    "plt.plot([0, 1], [0, 1],'r--')\n",
    "plt.xlim([0, 1])\n",
    "plt.ylim([0, 1])\n",
    "plt.ylabel('True Positive Rate')\n",
    "plt.xlabel('False Positive Rate')\n",
    "plt.show()"
   ]
  },
  {
   "attachments": {},
   "cell_type": "markdown",
   "metadata": {},
   "source": [
    "Logisitic Regression"
   ]
  },
  {
   "cell_type": "code",
   "execution_count": 36,
   "metadata": {},
   "outputs": [
    {
     "data": {
      "text/plain": [
       "0.9424603174603174"
      ]
     },
     "execution_count": 36,
     "metadata": {},
     "output_type": "execute_result"
    }
   ],
   "source": [
    "lr = LogisticRegression()\n",
    "lr.fit(trainX,trainY)\n",
    "lr.score(testX,testY)\n"
   ]
  },
  {
   "cell_type": "code",
   "execution_count": 48,
   "metadata": {},
   "outputs": [
    {
     "name": "stdout",
     "output_type": "stream",
     "text": [
      "\n",
      "CLASSIFICATION REPORT\n",
      "\n",
      "              precision    recall  f1-score   support\n",
      "\n",
      "         Bad       0.92      0.95      0.94       452\n",
      "        Good       0.96      0.93      0.95       556\n",
      "\n",
      "    accuracy                           0.94      1008\n",
      "   macro avg       0.94      0.94      0.94      1008\n",
      "weighted avg       0.94      0.94      0.94      1008\n",
      "\n",
      "\n",
      "CONFUSION MATRIX\n"
     ]
    },
    {
     "data": {
      "image/png": "[encoded data removed]",
      "text/plain": [
       "<Figure size 432x288 with 2 Axes>"
      ]
     },
     "metadata": {
      "needs_background": "light"
     },
     "output_type": "display_data"
    }
   ],
   "source": [
    "print('\\nCLASSIFICATION REPORT\\n')\n",
    "print(classification_report(lr.predict(testX), testY,\n",
    "                            target_names =['Bad','Good']))\n",
    "print('\\nCONFUSION MATRIX')\n",
    "confusion_matrix = metrics.confusion_matrix(rfc.predict(testX), testY)\n",
    "cm_display = metrics.ConfusionMatrixDisplay(confusion_matrix = confusion_matrix, display_labels = [False, True])\n",
    "cm_display.plot()\n",
    "plt.show()"
   ]
  },
  {
   "cell_type": "code",
   "execution_count": 49,
   "metadata": {},
   "outputs": [
    {
     "data": {
      "image/png": "[encoded data removed]",
      "text/plain": [
       "<Figure size 432x288 with 1 Axes>"
      ]
     },
     "metadata": {
      "needs_background": "light"
     },
     "output_type": "display_data"
    }
   ],
   "source": [
    "from sklearn.metrics import roc_curve, auc\n",
    "# Generate false positive rate, true positive rate, and thresholds\n",
    "fpr, tpr, thresholds = roc_curve(testY,lr.predict(testX))\n",
    "# Compute AUC\n",
    "roc_auc = auc(fpr, tpr)\n",
    "# Plot ROC curve\n",
    "plt.title('Receiver Operating Characteristic')\n",
    "plt.plot(fpr, tpr, 'b', label = 'AUC = %0.2f' % roc_auc)\n",
    "plt.legend(loc = 'lower right')\n",
    "plt.plot([0, 1], [0, 1],'r--')\n",
    "plt.xlim([0, 1])\n",
    "plt.ylim([0, 1])\n",
    "plt.ylabel('True Positive Rate')\n",
    "plt.xlabel('False Positive Rate')\n",
    "plt.show()"
   ]
  },
  {
   "attachments": {},
   "cell_type": "markdown",
   "metadata": {},
   "source": [
    "Decision TREE"
   ]
  },
  {
   "cell_type": "code",
   "execution_count": 39,
   "metadata": {},
   "outputs": [
    {
     "data": {
      "text/plain": [
       "0.9801587301587301"
      ]
     },
     "execution_count": 39,
     "metadata": {},
     "output_type": "execute_result"
    }
   ],
   "source": [
    "dt = DecisionTreeClassifier()\n",
    "dt.fit(trainX,trainY)\n",
    "dt.score(testX,testY)"
   ]
  },
  {
   "cell_type": "code",
   "execution_count": 50,
   "metadata": {},
   "outputs": [
    {
     "name": "stdout",
     "output_type": "stream",
     "text": [
      "\n",
      "CLASSIFICATION REPORT\n",
      "\n",
      "              precision    recall  f1-score   support\n",
      "\n",
      "         Bad       0.97      0.99      0.98       456\n",
      "        Good       0.99      0.97      0.98       552\n",
      "\n",
      "    accuracy                           0.98      1008\n",
      "   macro avg       0.98      0.98      0.98      1008\n",
      "weighted avg       0.98      0.98      0.98      1008\n",
      "\n",
      "\n",
      "CONFUSION MATRIX\n"
     ]
    },
    {
     "data": {
      "image/png": "[encoded data removed]",
      "text/plain": [
       "<Figure size 432x288 with 2 Axes>"
      ]
     },
     "metadata": {
      "needs_background": "light"
     },
     "output_type": "display_data"
    }
   ],
   "source": [
    "print('\\nCLASSIFICATION REPORT\\n')\n",
    "print(classification_report(dt.predict(testX), testY,\n",
    "                            target_names =['Bad','Good']))\n",
    "print('\\nCONFUSION MATRIX')\n",
    "confusion_matrix = metrics.confusion_matrix(dt.predict(testX), testY)\n",
    "cm_display = metrics.ConfusionMatrixDisplay(confusion_matrix = confusion_matrix, display_labels = [False, True])\n",
    "cm_display.plot()\n",
    "plt.show()"
   ]
  },
  {
   "cell_type": "code",
   "execution_count": 51,
   "metadata": {},
   "outputs": [
    {
     "data": {
      "image/png": "[encoded data removed]",
      "text/plain": [
       "<Figure size 432x288 with 1 Axes>"
      ]
     },
     "metadata": {
      "needs_background": "light"
     },
     "output_type": "display_data"
    }
   ],
   "source": [
    "from sklearn.metrics import roc_curve, auc\n",
    "# Generate false positive rate, true positive rate, and thresholds\n",
    "fpr, tpr, thresholds = roc_curve(testY,dt.predict(testX))\n",
    "# Compute AUC\n",
    "roc_auc = auc(fpr, tpr)\n",
    "# Plot ROC curve\n",
    "plt.title('Receiver Operating Characteristic')\n",
    "plt.plot(fpr, tpr, 'b', label = 'AUC = %0.2f' % roc_auc)\n",
    "plt.legend(loc = 'lower right')\n",
    "plt.plot([0, 1], [0, 1],'r--')\n",
    "plt.xlim([0, 1])\n",
    "plt.ylim([0, 1])\n",
    "plt.ylabel('True Positive Rate')\n",
    "plt.xlabel('False Positive Rate')\n",
    "plt.show()"
   ]
  },
  {
   "attachments": {},
   "cell_type": "markdown",
   "metadata": {},
   "source": [
    "SVM MODEL\n"
   ]
  },
  {
   "cell_type": "code",
   "execution_count": 42,
   "metadata": {},
   "outputs": [
    {
     "data": {
      "text/plain": [
       "0.9613095238095238"
      ]
     },
     "execution_count": 42,
     "metadata": {},
     "output_type": "execute_result"
    }
   ],
   "source": [
    "# Train a support vector machine model\n",
    "svc = SVC()\n",
    "svc.fit(trainX,trainY)\n",
    "svc.score(testX,testY)"
   ]
  },
  {
   "cell_type": "code",
   "execution_count": 52,
   "metadata": {},
   "outputs": [
    {
     "name": "stdout",
     "output_type": "stream",
     "text": [
      "\n",
      "CLASSIFICATION REPORT\n",
      "\n",
      "              precision    recall  f1-score   support\n",
      "\n",
      "         Bad       0.93      0.99      0.96       439\n",
      "        Good       0.99      0.94      0.96       569\n",
      "\n",
      "    accuracy                           0.96      1008\n",
      "   macro avg       0.96      0.96      0.96      1008\n",
      "weighted avg       0.96      0.96      0.96      1008\n",
      "\n",
      "\n",
      "CONFUSION MATRIX\n"
     ]
    },
    {
     "data": {
      "image/png": "[encoded data removed]",
      "text/plain": [
       "<Figure size 432x288 with 2 Axes>"
      ]
     },
     "metadata": {
      "needs_background": "light"
     },
     "output_type": "display_data"
    }
   ],
   "source": [
    "print('\\nCLASSIFICATION REPORT\\n')\n",
    "print(classification_report(svc.predict(testX), testY,\n",
    "                            target_names =['Bad','Good']))\n",
    "print('\\nCONFUSION MATRIX')\n",
    "confusion_matrix = metrics.confusion_matrix(svc.predict(testX), testY)\n",
    "cm_display = metrics.ConfusionMatrixDisplay(confusion_matrix = confusion_matrix, display_labels = [False, True])\n",
    "cm_display.plot()\n",
    "plt.show()"
   ]
  },
  {
   "cell_type": "code",
   "execution_count": 53,
   "metadata": {},
   "outputs": [
    {
     "data": {
      "image/png": "[encoded data removed]",
      "text/plain": [
       "<Figure size 432x288 with 1 Axes>"
      ]
     },
     "metadata": {
      "needs_background": "light"
     },
     "output_type": "display_data"
    }
   ],
   "source": [
    "from sklearn.metrics import roc_curve, auc\n",
    "# Generate false positive rate, true positive rate, and thresholds\n",
    "fpr, tpr, thresholds = roc_curve(testY,svc.predict(testX))\n",
    "# Compute AUC\n",
    "roc_auc = auc(fpr, tpr)\n",
    "# Plot ROC curve\n",
    "plt.title('Receiver Operating Characteristic')\n",
    "plt.plot(fpr, tpr, 'b', label = 'AUC = %0.2f' % roc_auc)\n",
    "plt.legend(loc = 'lower right')\n",
    "plt.plot([0, 1], [0, 1],'r--')\n",
    "plt.xlim([0, 1])\n",
    "plt.ylim([0, 1])\n",
    "plt.ylabel('True Positive Rate')\n",
    "plt.xlabel('False Positive Rate')\n",
    "plt.show()"
   ]
  },
  {
   "attachments": {},
   "cell_type": "markdown",
   "metadata": {},
   "source": [
    "XGBOOST"
   ]
  },
  {
   "cell_type": "code",
   "execution_count": 45,
   "metadata": {},
   "outputs": [
    {
     "data": {
      "text/plain": [
       "0.9400025085781739"
      ]
     },
     "execution_count": 45,
     "metadata": {},
     "output_type": "execute_result"
    }
   ],
   "source": [
    "import xgboost as xgb\n",
    "model = xgb.XGBRegressor(\n",
    "    n_estimators=50,\n",
    "    reg_lambda=1,\n",
    "    gamma=0,\n",
    "    max_depth=3\n",
    ")\n",
    "model.fit(trainX,trainY)\n",
    "model.score(testX,testY)"
   ]
  },
  {
   "cell_type": "code",
   "execution_count": 55,
   "metadata": {},
   "outputs": [
    {
     "name": "stdout",
     "output_type": "stream",
     "text": [
      "[1. 1. 0. ... 0. 0. 0.]\n"
     ]
    }
   ],
   "source": [
    "predicted=model.predict(testX)\n",
    "for x in range(len(predicted)):\n",
    "        if(predicted[x]<0.5):\n",
    "                predicted[x]=0;\n",
    "        else:\n",
    "               predicted[x]=1\n",
    "        \n",
    "print(predicted)"
   ]
  },
  {
   "cell_type": "code",
   "execution_count": 56,
   "metadata": {},
   "outputs": [
    {
     "name": "stdout",
     "output_type": "stream",
     "text": [
      "\n",
      "CLASSIFICATION REPORT\n",
      "\n",
      "              precision    recall  f1-score   support\n",
      "\n",
      "         Bad       0.97      0.99      0.98       456\n",
      "        Good       0.99      0.97      0.98       552\n",
      "\n",
      "    accuracy                           0.98      1008\n",
      "   macro avg       0.98      0.98      0.98      1008\n",
      "weighted avg       0.98      0.98      0.98      1008\n",
      "\n",
      "\n",
      "CONFUSION MATRIX\n"
     ]
    },
    {
     "data": {
      "image/png": "[encoded data removed]",
      "text/plain": [
       "<Figure size 432x288 with 2 Axes>"
      ]
     },
     "metadata": {
      "needs_background": "light"
     },
     "output_type": "display_data"
    }
   ],
   "source": [
    "print('\\nCLASSIFICATION REPORT\\n')\n",
    "print(classification_report(predicted, testY,\n",
    "                            target_names =['Bad','Good']))\n",
    "print('\\nCONFUSION MATRIX')\n",
    "confusion_matrix = metrics.confusion_matrix(predicted, testY)\n",
    "cm_display = metrics.ConfusionMatrixDisplay(confusion_matrix = confusion_matrix, display_labels = [False, True])\n",
    "cm_display.plot()\n",
    "plt.show()"
   ]
  },
  {
   "cell_type": "code",
   "execution_count": 57,
   "metadata": {},
   "outputs": [
    {
     "data": {
      "image/png": "[encoded data removed]",
      "text/plain": [
       "<Figure size 432x288 with 1 Axes>"
      ]
     },
     "metadata": {
      "needs_background": "light"
     },
     "output_type": "display_data"
    }
   ],
   "source": [
    "from sklearn.metrics import roc_curve, auc\n",
    "# Generate false positive rate, true positive rate, and thresholds\n",
    "fpr, tpr, thresholds = roc_curve(testY,predicted)\n",
    "# Compute AUC\n",
    "roc_auc = auc(fpr, tpr)\n",
    "# Plot ROC curve\n",
    "plt.title('Receiver Operating Characteristic')\n",
    "plt.plot(fpr, tpr, 'b', label = 'AUC = %0.2f' % roc_auc)\n",
    "plt.legend(loc = 'lower right')\n",
    "plt.plot([0, 1], [0, 1],'r--')\n",
    "plt.xlim([0, 1])\n",
    "plt.ylim([0, 1])\n",
    "plt.ylabel('True Positive Rate')\n",
    "plt.xlabel('False Positive Rate')\n",
    "plt.show()"
   ]
  },
  {
   "attachments": {},
   "cell_type": "markdown",
   "metadata": {},
   "source": [
    "LIGHTGBM\n"
   ]
  },
  {
   "cell_type": "code",
   "execution_count": 20,
   "metadata": {},
   "outputs": [
    {
     "name": "stdout",
     "output_type": "stream",
     "text": [
      "0.9910714285714286\n"
     ]
    }
   ],
   "source": [
    "import lightgbm as lgb\n",
    "from lightgbm import LGBMClassifier\n",
    "model = LGBMClassifier()\n",
    "model.fit(trainX.astype('float32'),trainY.astype('float32')) \n",
    "accuracy = model.score(testX.astype('float32'),testY.astype('float32'))\n",
    "print(accuracy)"
   ]
  },
  {
   "cell_type": "code",
   "execution_count": 59,
   "metadata": {},
   "outputs": [
    {
     "name": "stdout",
     "output_type": "stream",
     "text": [
      "\n",
      "CLASSIFICATION REPORT\n",
      "\n",
      "              precision    recall  f1-score   support\n",
      "\n",
      "         Bad       0.97      1.00      0.98       456\n",
      "        Good       1.00      0.98      0.99       552\n",
      "\n",
      "    accuracy                           0.99      1008\n",
      "   macro avg       0.99      0.99      0.99      1008\n",
      "weighted avg       0.99      0.99      0.99      1008\n",
      "\n",
      "\n",
      "CONFUSION MATRIX\n"
     ]
    },
    {
     "data": {
      "image/png": "[encoded data removed]",
      "text/plain": [
       "<Figure size 432x288 with 2 Axes>"
      ]
     },
     "metadata": {
      "needs_background": "light"
     },
     "output_type": "display_data"
    }
   ],
   "source": [
    "print('\\nCLASSIFICATION REPORT\\n')\n",
    "print(classification_report(model.predict(testX.astype('float32')), testY.astype('float32'),\n",
    "                            target_names =['Bad','Good']))\n",
    "print('\\nCONFUSION MATRIX')\n",
    "confusion_matrix = metrics.confusion_matrix(model.predict(testX.astype('float32')), testY.astype('float32'))\n",
    "cm_display = metrics.ConfusionMatrixDisplay(confusion_matrix = confusion_matrix, display_labels = [False, True])\n",
    "cm_display.plot()\n",
    "plt.show()"
   ]
  },
  {
   "cell_type": "code",
   "execution_count": 60,
   "metadata": {},
   "outputs": [
    {
     "data": {
      "image/png": "[encoded data removed]",
      "text/plain": [
       "<Figure size 432x288 with 1 Axes>"
      ]
     },
     "metadata": {
      "needs_background": "light"
     },
     "output_type": "display_data"
    }
   ],
   "source": [
    "from sklearn.metrics import roc_curve, auc\n",
    "# Generate false positive rate, true positive rate, and thresholds\n",
    "fpr, tpr, thresholds = roc_curve(testY.astype('float32'),model.predict(testX.astype('float32')))\n",
    "# Compute AUC\n",
    "roc_auc = auc(fpr, tpr)\n",
    "# Plot ROC curve\n",
    "plt.title('Receiver Operating Characteristic')\n",
    "plt.plot(fpr, tpr, 'b', label = 'AUC = %0.2f' % roc_auc)\n",
    "plt.legend(loc = 'lower right')\n",
    "plt.plot([0, 1], [0, 1],'r--')\n",
    "plt.xlim([0, 1])\n",
    "plt.ylim([0, 1])\n",
    "plt.ylabel('True Positive Rate')\n",
    "plt.xlabel('False Positive Rate')\n",
    "plt.show()"
   ]
  },
  {
   "attachments": {},
   "cell_type": "markdown",
   "metadata": {},
   "source": [
    "Catboost"
   ]
  },
  {
   "cell_type": "code",
   "execution_count": 36,
   "metadata": {},
   "outputs": [
    {
     "name": "stdout",
     "output_type": "stream",
     "text": [
      "Accuracy: 0.9920634920634921\n"
     ]
    }
   ],
   "source": [
    "from catboost import CatBoostClassifier\n",
    "# Initialize the CatBoost classifier\n",
    "clf = CatBoostClassifier(iterations=100, learning_rate=0.1, depth=6, loss_function='Logloss')\n",
    "# Fit the classifier on the training data\n",
    "clf.fit(trainX,trainY, verbose=False)\n",
    "# Make predictions on the test set\n",
    "y_pred = clf.predict(testX)\n",
    "# Evaluate the accuracy of the predictions\n",
    "accuracy = accuracy_score(testY, y_pred)\n",
    "print('Accuracy:', accuracy)"
   ]
  },
  {
   "cell_type": "code",
   "execution_count": 37,
   "metadata": {},
   "outputs": [
    {
     "name": "stdout",
     "output_type": "stream",
     "text": [
      "\n",
      "CLASSIFICATION REPORT\n",
      "\n",
      "              precision    recall  f1-score   support\n",
      "\n",
      "         Bad       0.99      0.99      0.99       457\n",
      "        Good       0.99      0.99      0.99       551\n",
      "\n",
      "    accuracy                           0.99      1008\n",
      "   macro avg       0.99      0.99      0.99      1008\n",
      "weighted avg       0.99      0.99      0.99      1008\n",
      "\n",
      "\n",
      "CONFUSION MATRIX\n"
     ]
    },
    {
     "data": {
      "image/png": "[encoded data removed]",
      "text/plain": [
       "<Figure size 432x288 with 2 Axes>"
      ]
     },
     "metadata": {
      "needs_background": "light"
     },
     "output_type": "display_data"
    }
   ],
   "source": [
    "print('\\nCLASSIFICATION REPORT\\n')\n",
    "print(classification_report(y_pred, testY,\n",
    "                            target_names =['Bad','Good']))\n",
    "print('\\nCONFUSION MATRIX')\n",
    "confusion_matrix = metrics.confusion_matrix(y_pred, testY)\n",
    "cm_display = metrics.ConfusionMatrixDisplay(confusion_matrix = confusion_matrix, display_labels = [False, True])\n",
    "cm_display.plot()\n",
    "plt.show()"
   ]
  },
  {
   "cell_type": "code",
   "execution_count": 38,
   "metadata": {},
   "outputs": [
    {
     "data": {
      "image/png": "[encoded data removed]",
      "text/plain": [
       "<Figure size 432x288 with 1 Axes>"
      ]
     },
     "metadata": {
      "needs_background": "light"
     },
     "output_type": "display_data"
    }
   ],
   "source": [
    "from sklearn.metrics import roc_curve, auc\n",
    "# Generate false positive rate, true positive rate, and thresholds\n",
    "fpr, tpr, thresholds = roc_curve(testY,y_pred)\n",
    "# Compute AUC\n",
    "roc_auc = auc(fpr, tpr)\n",
    "# Plot ROC curve\n",
    "plt.title('Receiver Operating Characteristic')\n",
    "plt.plot(fpr, tpr, 'b', label = 'AUC = %0.2f' % roc_auc)\n",
    "plt.legend(loc = 'lower right')\n",
    "plt.plot([0, 1], [0, 1],'r--')\n",
    "plt.xlim([0, 1])\n",
    "plt.ylim([0, 1])\n",
    "plt.ylabel('True Positive Rate')\n",
    "plt.xlabel('False Positive Rate')\n",
    "plt.show()"
   ]
  },
  {
   "cell_type": "code",
   "execution_count": 14,
   "metadata": {},
   "outputs": [
    {
     "name": "stdout",
     "output_type": "stream",
     "text": [
      "Accuracy: 0.9871031746031746\n"
     ]
    }
   ],
   "source": [
    "from sklearn.ensemble import AdaBoostClassifier\n",
    "# Create an AdaBoost classifier with decision trees as base estimators\n",
    "clf = AdaBoostClassifier(base_estimator=DecisionTreeClassifier())\n",
    "# Train the classifier\n",
    "clf.fit(trainX, trainY)\n",
    "# Make predictions on the test set\n",
    "y_pred = clf.predict(testX)\n",
    "# Evaluate the classifier\n",
    "accuracy = accuracy_score(testY, y_pred)\n",
    "print('Accuracy:', accuracy)\n"
   ]
  },
  {
   "cell_type": "code",
   "execution_count": 15,
   "metadata": {},
   "outputs": [
    {
     "name": "stdout",
     "output_type": "stream",
     "text": [
      "\n",
      "CLASSIFICATION REPORT\n",
      "\n",
      "              precision    recall  f1-score   support\n",
      "\n",
      "         Bad       0.99      0.98      0.99       460\n",
      "        Good       0.99      0.99      0.99       548\n",
      "\n",
      "    accuracy                           0.99      1008\n",
      "   macro avg       0.99      0.99      0.99      1008\n",
      "weighted avg       0.99      0.99      0.99      1008\n",
      "\n",
      "\n",
      "CONFUSION MATRIX\n"
     ]
    },
    {
     "data": {
      "image/png": "[encoded data removed]",
      "text/plain": [
       "<Figure size 432x288 with 2 Axes>"
      ]
     },
     "metadata": {
      "needs_background": "light"
     },
     "output_type": "display_data"
    }
   ],
   "source": [
    "print('\\nCLASSIFICATION REPORT\\n')\n",
    "print(classification_report(y_pred, testY,\n",
    "                            target_names =['Bad','Good']))\n",
    "print('\\nCONFUSION MATRIX')\n",
    "confusion_matrix = metrics.confusion_matrix(y_pred, testY)\n",
    "cm_display = metrics.ConfusionMatrixDisplay(confusion_matrix = confusion_matrix, display_labels = [False, True])\n",
    "cm_display.plot()\n",
    "plt.show()"
   ]
  },
  {
   "cell_type": "code",
   "execution_count": 16,
   "metadata": {},
   "outputs": [
    {
     "data": {
      "image/png": "[encoded data removed]",
      "text/plain": [
       "<Figure size 432x288 with 1 Axes>"
      ]
     },
     "metadata": {
      "needs_background": "light"
     },
     "output_type": "display_data"
    }
   ],
   "source": [
    "from sklearn.metrics import roc_curve, auc\n",
    "# Generate false positive rate, true positive rate, and thresholds\n",
    "fpr, tpr, thresholds = roc_curve(testY,y_pred)\n",
    "# Compute AUC\n",
    "roc_auc = auc(fpr, tpr)\n",
    "# Plot ROC curve\n",
    "plt.title('Receiver Operating Characteristic')\n",
    "plt.plot(fpr, tpr, 'b', label = 'AUC = %0.2f' % roc_auc)\n",
    "plt.legend(loc = 'lower right')\n",
    "plt.plot([0, 1], [0, 1],'r--')\n",
    "plt.xlim([0, 1])\n",
    "plt.ylim([0, 1])\n",
    "plt.ylabel('True Positive Rate')\n",
    "plt.xlabel('False Positive Rate')\n",
    "plt.show()"
   ]
  },
  {
   "attachments": {},
   "cell_type": "markdown",
   "metadata": {},
   "source": [
    "Our own algorithm based on existing algorithm"
   ]
  },
  {
   "cell_type": "code",
   "execution_count": 34,
   "metadata": {},
   "outputs": [],
   "source": [
    "class MyClassifier(BaseEstimator, ClassifierMixin):\n",
    "    def __init__(self):\n",
    "        self.dt_clf = DecisionTreeClassifier()\n",
    "        self.svm_clf = SVC()\n",
    "\n",
    "    def fit(self, X, y):\n",
    "        # Check that X and y have correct shape\n",
    "        X, y = check_X_y(X, y)\n",
    "\n",
    "        # Train the decision tree classifier\n",
    "        self.dt_clf.fit(X, y)\n",
    "\n",
    "        # Generate new features using the decision tree classifier\n",
    "        X_new = self.dt_clf.apply(X)\n",
    "        X_new = np.reshape(X_new, (-1, 1))\n",
    "\n",
    "        # Train the SVM on the new feature set\n",
    "        self.svm_clf.fit(X_new, y)\n",
    "\n",
    "        return self\n"
   ]
  },
  {
   "cell_type": "code",
   "execution_count": 35,
   "metadata": {},
   "outputs": [],
   "source": [
    "def predict(self, X):\n",
    "        # Check is fit had been called\n",
    "        check_is_fitted(self)\n",
    "\n",
    "        # Input validation\n",
    "        X = check_array(X)\n",
    "\n",
    "        # Generate new features using the decision tree classifier\n",
    "        X_new = self.dt_clf.apply(X)\n",
    "        X_new = np.reshape(X_new, (-1, 1))\n",
    "\n",
    "        # Make predictions using the SVM\n",
    "        y_pred = self.svm_clf.predict(X_new)\n",
    "\n",
    "        return y_pred"
   ]
  },
  {
   "cell_type": "code",
   "execution_count": 31,
   "metadata": {},
   "outputs": [
    {
     "name": "stdout",
     "output_type": "stream",
     "text": [
      "Accuracy: 0.9404761904761905\n"
     ]
    }
   ],
   "source": [
    "clf = MyClassifier()\n",
    "clf.fit(trainX.toarray(),trainY)\n",
    "y_pred = clf.predict(testX)\n",
    "accuracy = accuracy_score(testY, y_pred)\n",
    "print('Accuracy:', accuracy)"
   ]
  },
  {
   "cell_type": "code",
   "execution_count": 32,
   "metadata": {},
   "outputs": [
    {
     "name": "stdout",
     "output_type": "stream",
     "text": [
      "\n",
      "CLASSIFICATION REPORT\n",
      "\n",
      "              precision    recall  f1-score   support\n",
      "\n",
      "         Bad       0.93      0.94      0.93       455\n",
      "        Good       0.95      0.94      0.95       553\n",
      "\n",
      "    accuracy                           0.94      1008\n",
      "   macro avg       0.94      0.94      0.94      1008\n",
      "weighted avg       0.94      0.94      0.94      1008\n",
      "\n",
      "\n",
      "CONFUSION MATRIX\n"
     ]
    },
    {
     "data": {
      "image/png": "[encoded data removed]",
      "text/plain": [
       "<Figure size 432x288 with 2 Axes>"
      ]
     },
     "metadata": {
      "needs_background": "light"
     },
     "output_type": "display_data"
    }
   ],
   "source": [
    "print('\\nCLASSIFICATION REPORT\\n')\n",
    "print(classification_report(y_pred, testY,\n",
    "                            target_names =['Bad','Good']))\n",
    "print('\\nCONFUSION MATRIX')\n",
    "confusion_matrix = metrics.confusion_matrix(y_pred, testY)\n",
    "cm_display = metrics.ConfusionMatrixDisplay(confusion_matrix = confusion_matrix, display_labels = [False, True])\n",
    "cm_display.plot()\n",
    "plt.show()\n"
   ]
  },
  {
   "cell_type": "code",
   "execution_count": 33,
   "metadata": {},
   "outputs": [
    {
     "data": {
      "image/png": "[encoded data removed]",
      "text/plain": [
       "<Figure size 432x288 with 1 Axes>"
      ]
     },
     "metadata": {
      "needs_background": "light"
     },
     "output_type": "display_data"
    }
   ],
   "source": [
    "from sklearn.metrics import roc_curve, auc\n",
    "# Generate false positive rate, true positive rate, and thresholds\n",
    "fpr, tpr, thresholds = roc_curve(testY,y_pred)\n",
    "# Compute AUC\n",
    "roc_auc = auc(fpr, tpr)\n",
    "# Plot ROC curve\n",
    "plt.title('Receiver Operating Characteristic')\n",
    "plt.plot(fpr, tpr, 'b', label = 'AUC = %0.2f' % roc_auc)\n",
    "plt.legend(loc = 'lower right')\n",
    "plt.plot([0, 1], [0, 1],'r--')\n",
    "plt.xlim([0, 1])\n",
    "plt.ylim([0, 1])\n",
    "plt.ylabel('True Positive Rate')\n",
    "plt.xlabel('False Positive Rate')\n",
    "plt.show()"
   ]
  },
  {
   "attachments": {},
   "cell_type": "markdown",
   "metadata": {},
   "source": [
    "By using the decision tree to generate new features that capture non-linear relationships between features and target variable, we can enhance the SVM's ability to accurately classify instances. The decision tree acts as a feature extractor that transforms the input data into a new feature space, which can then be used by the SVM to learn a decision boundary that separates the classes. This way, we can benefit from the strengths of both algorithms and improve the overall accuracy of the model."
   ]
  }
 ],
 "metadata": {
  "kernelspec": {
   "display_name": "Python 3",
   "language": "python",
   "name": "python3"
  },
  "language_info": {
   "codemirror_mode": {
    "name": "ipython",
    "version": 3
   },
   "file_extension": ".py",
   "mimetype": "text/x-python",
   "name": "python",
   "nbconvert_exporter": "python",
   "pygments_lexer": "ipython3",
   "version": "3.7.6"
  },
  "orig_nbformat": 4,
  "vscode": {
   "interpreter": {
    "hash": "b47ffbe1cab92b2a7a0ce3a5a78202013bc920f969d0dd638a9ce62434e55070"
   }
  }
 },
 "nbformat": 4,
 "nbformat_minor": 2
}
